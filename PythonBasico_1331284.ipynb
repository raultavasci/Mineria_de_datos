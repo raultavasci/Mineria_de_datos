{
 "cells": [
  {
   "cell_type": "code",
   "execution_count": 4,
   "metadata": {},
   "outputs": [
    {
     "name": "stdout",
     "output_type": "stream",
     "text": [
      "This is a <class 'float'>  variable\n",
      "This is a <class 'int'>  variable\n",
      "This is a <class 'bool'>  variable\n",
      "This is a <class 'complex'>  variable\n"
     ]
    }
   ],
   "source": [
    "a =2.1\n",
    "b = 1\n",
    "c=True\n",
    "d=2.23j\n",
    "x=a,b,c,d\n",
    "for i in x:\n",
    "    print(\"This is a\",type(i),\" variable\")"
   ]
  },
  {
   "cell_type": "code",
   "execution_count": 5,
   "metadata": {},
   "outputs": [
    {
     "name": "stdout",
     "output_type": "stream",
     "text": [
      "Primer valor tuple:  1 \n",
      "ultimo valor 6\n"
     ]
    }
   ],
   "source": [
    "# Crear una tupla con valores enteros imprimir el primer y ultimo valor.\n",
    "A = (1,2,3,4,5,6)\n",
    "print(\"Primer valor tuple: \",A[0],\"\\nultimo valor\",A[-1])"
   ]
  },
  {
   "cell_type": "code",
   "execution_count": 6,
   "metadata": {},
   "outputs": [
    {
     "name": "stdout",
     "output_type": "stream",
     "text": [
      "(1, 2, 3, 4, 5, 6, 'a', 'b', 'c')\n"
     ]
    }
   ],
   "source": [
    "# Añadir 3 valores de string a la tupla.\n",
    "B = (\"a\",\"b\",\"c\")\n",
    "C = A+B\n",
    "print(C)"
   ]
  },
  {
   "cell_type": "code",
   "execution_count": 7,
   "metadata": {},
   "outputs": [
    {
     "name": "stdout",
     "output_type": "stream",
     "text": [
      "False \n",
      " True\n"
     ]
    }
   ],
   "source": [
    "# Verificar si una variable existe dentro de la tupla.\n",
    "print(isinstance(C,list),\"\\n\",isinstance(C,tuple))"
   ]
  },
  {
   "cell_type": "code",
   "execution_count": 8,
   "metadata": {},
   "outputs": [
    {
     "name": "stdout",
     "output_type": "stream",
     "text": [
      "Lista generada:\n",
      " [20, 7, 20, 18, 2, 8, 30, 14, 4, 6, 14, 17, 27, 8, 39, 38, 9, 16, 12, 24, 8, 21, 8, 24, 14, 11, 20, 7, 33, 32, 38, 4, 33, 40, 32, 9, 27, 26, 4, 30]\n",
      "\n",
      "Largo de lista: \n",
      " 40 \n",
      "\n",
      "\n"
     ]
    }
   ],
   "source": [
    "# Listas\n",
    "# Crear una lista con 40 elementos aleatorios enteros.\n",
    "import random\n",
    "randomlist = []\n",
    "for i in range(0,40):\n",
    "\tn = random.randint(1,40)\n",
    "\trandomlist.append(n)\n",
    "print(\"Lista generada:\\n\",randomlist)\n",
    "print(\"\\nLargo de lista: \\n\",len(randomlist),\"\\n\\n\")"
   ]
  },
  {
   "cell_type": "code",
   "execution_count": 10,
   "metadata": {},
   "outputs": [
    {
     "name": "stdout",
     "output_type": "stream",
     "text": [
      "Pares [20, 20, 18, 2, 8, 30, 14, 4, 6, 14, 8, 38, 16, 12, 24, 8, 8, 24, 14, 20, 32, 38, 4, 40, 32, 26, 4, 30] \n",
      "Impares [7, 17, 27, 39, 9, 21, 11, 7, 33, 33, 9, 27]\n"
     ]
    }
   ],
   "source": [
    "def list(randomlist):\n",
    "    im=[]\n",
    "    p=[]\n",
    "    for i in range(len(randomlist)):\n",
    "        if randomlist[i]%2==0:\n",
    "            p.append(randomlist[i])\n",
    "        else:\n",
    "            im.append(randomlist[i])\n",
    "    return p,im\n",
    "p,im=list(randomlist)\n",
    "print(\"Pares\",p,\"\\nImpares\",im)"
   ]
  },
  {
   "cell_type": "code",
   "execution_count": 11,
   "metadata": {},
   "outputs": [
    {
     "name": "stdout",
     "output_type": "stream",
     "text": [
      "Longitud de pares:  28 \n",
      "Longitud de impares:  12\n"
     ]
    }
   ],
   "source": [
    "# Crear dos variables con la longitud de ambas listas nuevas e imprimir las variables.\n",
    "Par = len(p)\n",
    "imp = len(im)\n",
    "print(\"Longitud de pares: \",Par,\"\\nLongitud de impares: \",imp)"
   ]
  },
  {
   "cell_type": "code",
   "execution_count": 12,
   "metadata": {},
   "outputs": [
    {
     "name": "stdout",
     "output_type": "stream",
     "text": [
      "Pares:  None \n",
      "Impares None\n"
     ]
    }
   ],
   "source": [
    "\n",
    "# Ordenar los elementos de la lista par de mayor a menor, y los de la lista impar de menor a mayor.\n",
    "Parsort=p.sort()\n",
    "impsort=im.sort(reverse=True)\n",
    "\n",
    "print(\"Pares: \",Parsort,\"\\nImpares\",impsort)"
   ]
  },
  {
   "cell_type": "code",
   "execution_count": 19,
   "metadata": {},
   "outputs": [
    {
     "name": "stdout",
     "output_type": "stream",
     "text": [
      "[18, 2, 8, 30, 14, 4, 6, 14, 17, 27, 8, 39, 38, 9]\n",
      "[120, 120, 120, 20, 7, 20, 18, 2, 8, 30, 14, 4, 6, 14, 17, 27, 8, 39, 38, 9, 16, 12, 24, 8, 21, 8, 24, 14, 11, 20, 7, 33, 32, 38, 4, 33, 40, 32, 9, 27, 26, 4, 30, 5, 5, 5, 5, 5, 120]\n"
     ]
    }
   ],
   "source": [
    "# Utilizar al menos cuatro de las funciones de listas en python en la lista original de 40 elementos.\n",
    "randomlist.append(5)\n",
    "print(randomlist[5:19])\n",
    "randomlist.insert(0,120)\n",
    "randomlist.append(120)\n",
    "print(randomlist)"
   ]
  },
  {
   "cell_type": "code",
   "execution_count": 20,
   "metadata": {},
   "outputs": [
    {
     "name": "stdout",
     "output_type": "stream",
     "text": [
      "[18, 44, 28, 28, 26, 33]\n",
      "\n",
      "[18, 26, 28, 28, 33, 44]\n",
      "\n",
      "adrian\n",
      "jesus\n",
      "pato\n",
      "ana\n",
      "adriana\n",
      "pamela\n",
      "\n",
      "{'adrian': 23, 'jesus': 44, 'pato': 25, 'ana': 28, 'adriana': 26, 'pamela': 33}\n"
     ]
    }
   ],
   "source": [
    "#Diccionarios \n",
    "#Crear un diccionario de 6 personas que conozcas con su primer nombre y su edad.7\n",
    "dicc ={\"adrian\":18,\"jesus\":44,\"pato\":28,\"ana\":28,\"adriana\":26,\"pamela\":33}\n",
    "\n",
    "edad = [i for i in dicc.values()]\n",
    "print (edad)\n",
    "\n",
    "print()\n",
    "edad.sort()\n",
    "print (edad)\n",
    "\n",
    "print()\n",
    "for i in dicc:\n",
    "    print (i)\n",
    "    \n",
    "print()\n",
    "dicc[\"adrian\"]=23\n",
    "dicc[\"pato\"]=25\n",
    "\n",
    "print (dicc)"
   ]
  },
  {
   "cell_type": "code",
   "execution_count": 21,
   "metadata": {},
   "outputs": [
    {
     "name": "stdout",
     "output_type": "stream",
     "text": [
      "{1, 2, 3, 4, 5, 6, 7, 8, 9, 10, 11, 12, 13, 14, 15, 16, 17, 18, 19, 20, 21, 22, 23, 24, 25}\n",
      "\n",
      "25\n",
      "\n",
      "[1, 8, 10, 3, 1]\n",
      "\n",
      "Existe:  1 True\n",
      "Existe:  8 True\n",
      "Existe:  10 True\n",
      "Existe:  3 True\n",
      "Existe:  1 True\n"
     ]
    }
   ],
   "source": [
    "#Sets\n",
    "#Crea un set con 100 numeros aleatorios enteros del 1 al 25.\n",
    "#Comprueba la longitud de tu set.\n",
    "#Crea una lista de 5 numeros aleatorios del 1 al 10 y comprueba si cada valor aparece en el set inicial.\n",
    "\n",
    "\n",
    "import random as r\n",
    "\n",
    "a={r.randint(1,25) for i in range(100)}\n",
    "print (a)    \n",
    "\n",
    "print()\n",
    "print (len (a))\n",
    "\n",
    "print()\n",
    "b=[r.randint(1,10) for i in range(5)]\n",
    "print (b)\n",
    "\n",
    "print()\n",
    "for i in range(len(b)):\n",
    "    print(\"Existe: \", b[i], b[i] in a)"
   ]
  },
  {
   "cell_type": "code",
   "execution_count": null,
   "metadata": {},
   "outputs": [],
   "source": []
  }
 ],
 "metadata": {
  "kernelspec": {
   "display_name": "Python 3",
   "language": "python",
   "name": "python3"
  },
  "language_info": {
   "codemirror_mode": {
    "name": "ipython",
    "version": 3
   },
   "file_extension": ".py",
   "mimetype": "text/x-python",
   "name": "python",
   "nbconvert_exporter": "python",
   "pygments_lexer": "ipython3",
   "version": "3.8.5"
  }
 },
 "nbformat": 4,
 "nbformat_minor": 4
}
