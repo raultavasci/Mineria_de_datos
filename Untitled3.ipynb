{
 "cells": [
  {
   "cell_type": "markdown",
   "metadata": {},
   "source": [
    "###                                                 Parte 1 (Programación Básica de Python)"
   ]
  },
  {
   "cell_type": "code",
   "execution_count": 8,
   "metadata": {},
   "outputs": [
    {
     "name": "stdout",
     "output_type": "stream",
     "text": [
      "[7, 12, 4, 29, 9]\n",
      "[9, 4, 6, 5, 11, 9, 18, 28, 28, 11]\n",
      "[5, 1, 27, 20, 7, 1, 18, 11, 20, 25, 29, 21, 20, 13, 24]\n"
     ]
    }
   ],
   "source": [
    "#1. Haz una función que te imprima listas de números enteros aleatorios con cantidad de 5, 10, 15 elementos. (2 puntos)\n",
    "import random\n",
    "def rand_list(x,y,z):\n",
    "    randomlist = []\n",
    "    for i in range(0,x):\n",
    "        n = random.randint(1,30)\n",
    "        randomlist.append(n)\n",
    "    print(randomlist)\n",
    "    randomlist = []\n",
    "    for i in range(0,y):\n",
    "        n = random.randint(1,30)\n",
    "        randomlist.append(n)\n",
    "    print(randomlist)\n",
    "    randomlist = []\n",
    "    for i in range(0,z):\n",
    "        n = random.randint(1,30)\n",
    "        randomlist.append(n)\n",
    "    print(randomlist)\n",
    "\n",
    "rand_list(5,10,15)\n",
    "\n"
   ]
  },
  {
   "cell_type": "code",
   "execution_count": 18,
   "metadata": {},
   "outputs": [
    {
     "name": "stdout",
     "output_type": "stream",
     "text": [
      "Número Menor:  4 \n",
      "Número Mayor:  28\n"
     ]
    }
   ],
   "source": [
    "#2. Con la función que generaste toma la lista de 15, y haz una función que te indique cual de los números es el mayor, y otra que te indique cual es el menor. (2 puntos)\n",
    "A = [9, 4, 6, 5, 11, 9, 18, 28, 28, 11]\n",
    "A.sort()\n",
    "print(\"Número Menor: \",A[0],\"\\nNúmero Mayor: \", A[-1])"
   ]
  },
  {
   "cell_type": "code",
   "execution_count": 22,
   "metadata": {},
   "outputs": [
    {
     "name": "stdout",
     "output_type": "stream",
     "text": [
      "Menor a mayor. \n",
      " [4, 7, 9, 12, 29]\n",
      "Mayor a menor. \n",
      " [29, 12, 9, 7, 4]\n",
      "\n",
      "\n",
      "Menor a mayor. \n",
      " [4, 5, 6, 9, 9, 11, 11, 18, 28, 28]\n",
      "Mayor a menor. \n",
      " [28, 28, 18, 11, 11, 9, 9, 6, 5, 4]\n",
      "\n",
      "\n",
      "Menor a mayor. \n",
      " [1, 1, 5, 7, 11, 13, 18, 20, 20, 20, 21, 24, 25, 27, 29]\n",
      "Mayor a menor. \n",
      " [29, 27, 25, 24, 21, 20, 20, 20, 18, 13, 11, 7, 5, 1, 1]\n"
     ]
    }
   ],
   "source": [
    "#3. Toma las listas y ordénalas de mayor a menor, y de menor a mayor. (2 puntos)\n",
    "A = [7, 12, 4, 29, 9]\n",
    "A.sort()\n",
    "print(\"Menor a mayor. \\n\",A)\n",
    "A.sort(reverse = True)\n",
    "print(\"Mayor a menor. \\n\",A)\n",
    "print(\"\\n\")\n",
    "B = [9, 4, 6, 5, 11, 9, 18, 28, 28, 11]\n",
    "B.sort()\n",
    "print(\"Menor a mayor. \\n\",B)\n",
    "B.sort(reverse = True)\n",
    "print(\"Mayor a menor. \\n\",B)\n",
    "print(\"\\n\")\n",
    "C = [5, 1, 27, 20, 7, 1, 18, 11, 20, 25, 29, 21, 20, 13, 24]\n",
    "C.sort()\n",
    "print(\"Menor a mayor. \\n\",C)\n",
    "C.sort(reverse = True)\n",
    "print(\"Mayor a menor. \\n\",C)"
   ]
  },
  {
   "cell_type": "code",
   "execution_count": 39,
   "metadata": {},
   "outputs": [
    {
     "name": "stdout",
     "output_type": "stream",
     "text": [
      "Lista de todos los pares de las 3 listas:\n",
      "  [12, 4, 4, 6, 18, 28, 28, 20, 18, 20, 20, 24]\n"
     ]
    }
   ],
   "source": [
    "#4.\tHaz una sola lista que contenga todos los elementos pares de las 3 primeras listas. (2 puntos)\n",
    "a=[7, 12, 4, 29, 9]\n",
    "z=[]\n",
    "for i in a:\n",
    "    if i%2 == 0:\n",
    "        z.append(i)\n",
    "  \n",
    "b=[9, 4, 6, 5, 11, 9, 18, 28, 28, 11]\n",
    "for i in b:\n",
    "    if i%2 == 0:\n",
    "        z.append(i)\n",
    "        \n",
    "c=[5, 1, 27, 20, 7, 1, 18, 11, 20, 25, 29, 21, 20, 13, 24]\n",
    "for i in c:\n",
    "    if i%2 == 0:\n",
    "        z.append(i)\n",
    "print(\"Lista de todos los pares de las 3 listas:\\n \",z)     \n"
   ]
  },
  {
   "cell_type": "code",
   "execution_count": 61,
   "metadata": {
    "scrolled": true
   },
   "outputs": [
    {
     "name": "stdout",
     "output_type": "stream",
     "text": [
      "Números impares de la lista original: \n",
      " [5, 1, 27, 7, 1, 11, 25, 29, 21, 13]\n",
      "\n",
      "Números impares reemplazados con un -1: \n",
      " [[-1], [-1], [-1], [20], [-1], [-1], [18], [-1], [20], [-1], [-1], [-1], [20], [-1], [24]]\n",
      "[[-1], [-1], [-1], [20], [-1], [-1], [18], [-1], [20], [-1], [-1], [-1], [20], [-1], [24]]\n"
     ]
    }
   ],
   "source": [
    "import pandas as pd\n",
    "#5.Reemplazar todos los números impares del arreglo de 15 elementos del ejercicio 1.) con un -1. (2 puntos)\n",
    "a=[5, 1, 27, 20, 7, 1, 18, 11, 20, 25, 29, 21, 20, 13, 24]\n",
    "z = []\n",
    "for i in a:\n",
    "    if i%2 !=0:\n",
    "        z.append(i)\n",
    "print(\"Números impares de la lista original: \\n\",z)\n",
    "df = pd.DataFrame(a)\n",
    "df.replace(z,-1,inplace=True)\n",
    "print(\"\\nNúmeros impares reemplazados con un -1: \\n\",df.values.tolist())\n"
   ]
  },
  {
   "cell_type": "code",
   "execution_count": 63,
   "metadata": {},
   "outputs": [
    {
     "name": "stdout",
     "output_type": "stream",
     "text": [
      "20.00 Grados celsius son: 68.00 grados fahrenheit\n"
     ]
    }
   ],
   "source": [
    "#6.Haz una función que te permita hacer conversiones de grados Celsius a Fahrenheit. (2 puntos)\n",
    "def grados(celsius):\n",
    "    fahrenheit = (celsius * 9/5) + 32\n",
    "    print('%.2f Grados celsius son: %0.2f grados fahrenheit' %(celsius, fahrenheit))\n",
    "grados(20)"
   ]
  },
  {
   "cell_type": "code",
   "execution_count": 69,
   "metadata": {},
   "outputs": [
    {
     "name": "stdout",
     "output_type": "stream",
     "text": [
      "Lista de elementos que se repiten en ambas listas:  {4, 5, 6, 9, 11}\n"
     ]
    }
   ],
   "source": [
    "#7.Hacer relaciones entre los datos de las siguientes listas. El resultado deberá ser una lista con los elementos que se repitan en ambas listas. (2 puntos)\n",
    "a = 1, 2, 3, 9, 3, 4, 3, 4, 5, 6, 11\n",
    "b = 10, 6, 5, 7, 11, 12, 4, 5, 9, 66\n",
    "print(\"Lista de elementos que se repiten en ambas listas: \",set(a).intersection(b))\n"
   ]
  }
 ],
 "metadata": {
  "kernelspec": {
   "display_name": "Python 3",
   "language": "python",
   "name": "python3"
  },
  "language_info": {
   "codemirror_mode": {
    "name": "ipython",
    "version": 3
   },
   "file_extension": ".py",
   "mimetype": "text/x-python",
   "name": "python",
   "nbconvert_exporter": "python",
   "pygments_lexer": "ipython3",
   "version": "3.8.5"
  }
 },
 "nbformat": 4,
 "nbformat_minor": 4
}
